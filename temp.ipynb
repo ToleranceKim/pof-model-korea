{
 "cells": [
  {
   "cell_type": "code",
   "execution_count": null,
   "metadata": {},
   "outputs": [
    {
     "name": "stderr",
     "output_type": "stream",
     "text": [
      "2025-05-12 18:03:56,503 INFO [2024-09-26T00:00:00] Watch our [Forum](https://forum.ecmwf.int/) for Announcements, news and other discussed topics.\n",
      "2025-05-12 18:03:56,504 WARNING [2024-06-16T00:00:00] CDS API syntax is changed and some keys or parameter names may have also changed. To avoid requests failing, please use the \"Show API request code\" tool on the dataset Download Form to check you are using the correct syntax for your API request.\n",
      "2025-05-12 18:03:57,456 INFO Request ID is 29d12471-44a6-435e-86c9-953b52a33203\n",
      "2025-05-12 18:03:57,809 INFO status has been updated to accepted\n",
      "2025-05-12 18:04:15,981 INFO status has been updated to running\n",
      "2025-05-12 18:04:23,914 INFO status has been updated to successful\n"
     ]
    },
    {
     "data": {
      "application/vnd.jupyter.widget-view+json": {
       "model_id": "488266efd84c44a59989c3e91967bd45",
       "version_major": 2,
       "version_minor": 0
      },
      "text/plain": [
       "50362cb74fcf296ea5cb5ccfccba6d1f.zip:   0%|          | 0.00/28.3k [00:00<?, ?B/s]"
      ]
     },
     "metadata": {},
     "output_type": "display_data"
    },
    {
     "data": {
      "text/plain": [
       "'50362cb74fcf296ea5cb5ccfccba6d1f.zip'"
      ]
     },
     "execution_count": 13,
     "metadata": {},
     "output_type": "execute_result"
    }
   ],
   "source": [
    "import cdsapi\n",
    "\n",
    "dataset = \"reanalysis-era5-land\"\n",
    "request = {\n",
    "    \"variable\": [\"lake_ice_temperature\"],\n",
    "    \"year\": \"2024\",\n",
    "    \"month\": \"01\",\n",
    "    \"day\":   \"01\",\n",
    "    \"time\":  [\"00:00\"],\n",
    "    \"format\": \"netcdf\",\n",
    "    \"area\": [39.5, 124, 33, 131\n",
    "    ],\n",
    "}\n",
    "client = cdsapi.Client()\n",
    "client.retrieve(dataset, request).download()"
   ]
  },
  {
   "cell_type": "code",
   "execution_count": 14,
   "metadata": {},
   "outputs": [],
   "source": [
    "import xarray as xr\n",
    "import pandas as pd\n",
    "\n",
    "# 1. NetCDF 파일 열기\n",
    "ds = xr.open_dataset(r\"C:\\Users\\USER\\Desktop\\my_git\\fire\\50362cb74fcf296ea5cb5ccfccba6d1f\\data_0.nc\")\n",
    "\n",
    "# 2. Dataset 전체를 DataFrame으로 변환\n",
    "df = ds.to_dataframe().reset_index()\n",
    "\n",
    "# 3. CSV로 저장\n",
    "df.to_csv(\"output.csv\", index=False)\n"
   ]
  },
  {
   "cell_type": "code",
   "execution_count": 15,
   "metadata": {},
   "outputs": [
    {
     "name": "stderr",
     "output_type": "stream",
     "text": [
      "2025-05-12 19:10:29,698 INFO [2024-09-26T00:00:00] Watch our [Forum](https://forum.ecmwf.int/) for Announcements, news and other discussed topics.\n",
      "2025-05-12 19:10:29,700 WARNING [2024-06-16T00:00:00] CDS API syntax is changed and some keys or parameter names may have also changed. To avoid requests failing, please use the \"Show API request code\" tool on the dataset Download Form to check you are using the correct syntax for your API request.\n",
      "2025-05-12 19:10:30,430 INFO Request ID is 7cdd0937-5dfc-41fc-8712-82df966bb58f\n",
      "2025-05-12 19:10:30,979 INFO status has been updated to accepted\n",
      "2025-05-12 19:11:07,049 INFO status has been updated to running\n",
      "2025-05-12 19:11:50,602 INFO status has been updated to successful\n"
     ]
    },
    {
     "data": {
      "application/vnd.jupyter.widget-view+json": {
       "model_id": "ca3bf692213048b6916f36af35c84571",
       "version_major": 2,
       "version_minor": 0
      },
      "text/plain": [
       "cb345a7d3bd70a780825b8d122dcd565.zip:   0%|          | 0.00/290k [00:00<?, ?B/s]"
      ]
     },
     "metadata": {},
     "output_type": "display_data"
    },
    {
     "data": {
      "text/plain": [
       "'era5land_korea.nc'"
      ]
     },
     "execution_count": 15,
     "metadata": {},
     "output_type": "execute_result"
    }
   ],
   "source": [
    "import cdsapi\n",
    "c = cdsapi.Client()\n",
    "c.retrieve(\n",
    "    'reanalysis-era5-land',\n",
    "    {\n",
    "        'variable': [\n",
    "            '2m_dewpoint_temperature',  # d2m\n",
    "            'total_precipitation',      # tp\n",
    "            '2m_temperature',           # t2m\n",
    "            '10m_u_component_of_wind',  # u10\n",
    "            '10m_v_component_of_wind',  # v10\n",
    "        ],\n",
    "        'year': '2024',\n",
    "        'month': '03',\n",
    "        'day': ['15', '16', '17'],\n",
    "        'time': ['00:00','06:00','12:00','18:00'],\n",
    "        'area': [39.5, 124.0, 33.0, 131.0],\n",
    "        'format': 'netcdf',\n",
    "    },\n",
    "    'era5land_korea.nc')"
   ]
  },
  {
   "cell_type": "code",
   "execution_count": 1,
   "metadata": {},
   "outputs": [
    {
     "name": "stderr",
     "output_type": "stream",
     "text": [
      "2025-05-13 09:13:39,056 INFO [2024-09-26T00:00:00] Watch our [Forum](https://forum.ecmwf.int/) for Announcements, news and other discussed topics.\n",
      "2025-05-13 09:13:39,059 WARNING [2024-06-16T00:00:00] CDS API syntax is changed and some keys or parameter names may have also changed. To avoid requests failing, please use the \"Show API request code\" tool on the dataset Download Form to check you are using the correct syntax for your API request.\n",
      "2025-05-13 09:13:39,764 INFO Request ID is 09723bc4-92e4-4fca-92fc-63b3867ccb23\n",
      "2025-05-13 09:13:40,094 INFO status has been updated to accepted\n",
      "2025-05-13 09:14:03,173 INFO status has been updated to successful\n"
     ]
    },
    {
     "data": {
      "application/vnd.jupyter.widget-view+json": {
       "model_id": "9821f719c5974f30b1a650d8c94b0eb1",
       "version_major": 2,
       "version_minor": 0
      },
      "text/plain": [
       "5fe23c2ebccda1c3cb20eb9ada80b364.zip:   0%|          | 0.00/13.8M [00:00<?, ?B/s]"
      ]
     },
     "metadata": {},
     "output_type": "display_data"
    },
    {
     "name": "stdout",
     "output_type": "stream",
     "text": [
      "Downloaded: era5land_korea_202401.nc\n"
     ]
    },
    {
     "ename": "ValueError",
     "evalue": "did not find a match in any of xarray's currently installed IO backends ['netcdf4', 'h5netcdf', 'scipy', 'zarr']. Consider explicitly selecting one of the installed engines via the ``engine`` parameter, or installing additional IO dependencies, see:\nhttps://docs.xarray.dev/en/stable/getting-started-guide/installing.html\nhttps://docs.xarray.dev/en/stable/user-guide/io.html",
     "output_type": "error",
     "traceback": [
      "\u001b[1;31m---------------------------------------------------------------------------\u001b[0m",
      "\u001b[1;31mValueError\u001b[0m                                Traceback (most recent call last)",
      "Cell \u001b[1;32mIn[1], line 50\u001b[0m\n\u001b[0;32m     48\u001b[0m \u001b[38;5;66;03m# 월별 다운로드 & 변환\u001b[39;00m\n\u001b[0;32m     49\u001b[0m \u001b[38;5;28;01mfor\u001b[39;00m m \u001b[38;5;129;01min\u001b[39;00m \u001b[38;5;28mrange\u001b[39m(\u001b[38;5;241m1\u001b[39m, \u001b[38;5;241m13\u001b[39m):\n\u001b[1;32m---> 50\u001b[0m     \u001b[43mdownload_and_convert_month\u001b[49m\u001b[43m(\u001b[49m\u001b[43mYEAR\u001b[49m\u001b[43m,\u001b[49m\u001b[43m \u001b[49m\u001b[38;5;124;43mf\u001b[39;49m\u001b[38;5;124;43m\"\u001b[39;49m\u001b[38;5;132;43;01m{\u001b[39;49;00m\u001b[43mm\u001b[49m\u001b[38;5;132;43;01m:\u001b[39;49;00m\u001b[38;5;124;43m02d\u001b[39;49m\u001b[38;5;132;43;01m}\u001b[39;49;00m\u001b[38;5;124;43m\"\u001b[39;49m\u001b[43m,\u001b[49m\u001b[43m \u001b[49m\u001b[43mAREA\u001b[49m\u001b[43m,\u001b[49m\u001b[43m \u001b[49m\u001b[43mPREFIX\u001b[49m\u001b[43m)\u001b[49m\n\u001b[0;32m     52\u001b[0m \u001b[38;5;66;03m# 병합\u001b[39;00m\n\u001b[0;32m     53\u001b[0m files \u001b[38;5;241m=\u001b[39m \u001b[38;5;28msorted\u001b[39m(glob\u001b[38;5;241m.\u001b[39mglob(\u001b[38;5;124mf\u001b[39m\u001b[38;5;124m\"\u001b[39m\u001b[38;5;132;01m{\u001b[39;00mPREFIX\u001b[38;5;132;01m}\u001b[39;00m\u001b[38;5;124m_\u001b[39m\u001b[38;5;132;01m{\u001b[39;00mYEAR\u001b[38;5;132;01m}\u001b[39;00m\u001b[38;5;124m*.csv\u001b[39m\u001b[38;5;124m\"\u001b[39m))\n",
      "Cell \u001b[1;32mIn[1], line 33\u001b[0m, in \u001b[0;36mdownload_and_convert_month\u001b[1;34m(year, month, area, prefix)\u001b[0m\n\u001b[0;32m     13\u001b[0m c\u001b[38;5;241m.\u001b[39mretrieve(\n\u001b[0;32m     14\u001b[0m     \u001b[38;5;124m'\u001b[39m\u001b[38;5;124mreanalysis-era5-land\u001b[39m\u001b[38;5;124m'\u001b[39m,\n\u001b[0;32m     15\u001b[0m     {\n\u001b[1;32m   (...)\u001b[0m\n\u001b[0;32m     30\u001b[0m     nc_file\n\u001b[0;32m     31\u001b[0m )\n\u001b[0;32m     32\u001b[0m \u001b[38;5;28mprint\u001b[39m(\u001b[38;5;124mf\u001b[39m\u001b[38;5;124m\"\u001b[39m\u001b[38;5;124mDownloaded: \u001b[39m\u001b[38;5;132;01m{\u001b[39;00mnc_file\u001b[38;5;132;01m}\u001b[39;00m\u001b[38;5;124m\"\u001b[39m)\n\u001b[1;32m---> 33\u001b[0m ds \u001b[38;5;241m=\u001b[39m \u001b[43mxr\u001b[49m\u001b[38;5;241;43m.\u001b[39;49m\u001b[43mopen_dataset\u001b[49m\u001b[43m(\u001b[49m\u001b[43mnc_file\u001b[49m\u001b[43m)\u001b[49m\n\u001b[0;32m     34\u001b[0m ds[\u001b[38;5;124m'\u001b[39m\u001b[38;5;124mwind10\u001b[39m\u001b[38;5;124m'\u001b[39m] \u001b[38;5;241m=\u001b[39m (ds[\u001b[38;5;124m'\u001b[39m\u001b[38;5;124m10m_u_component_of_wind\u001b[39m\u001b[38;5;124m'\u001b[39m]\u001b[38;5;241m*\u001b[39m\u001b[38;5;241m*\u001b[39m\u001b[38;5;241m2\u001b[39m \u001b[38;5;241m+\u001b[39m ds[\u001b[38;5;124m'\u001b[39m\u001b[38;5;124m10m_v_component_of_wind\u001b[39m\u001b[38;5;124m'\u001b[39m]\u001b[38;5;241m*\u001b[39m\u001b[38;5;241m*\u001b[39m\u001b[38;5;241m2\u001b[39m)\u001b[38;5;241m*\u001b[39m\u001b[38;5;241m*\u001b[39m\u001b[38;5;241m0.5\u001b[39m\n\u001b[0;32m     35\u001b[0m df \u001b[38;5;241m=\u001b[39m ds[[\u001b[38;5;124m'\u001b[39m\u001b[38;5;124m2m_temperature\u001b[39m\u001b[38;5;124m'\u001b[39m,\u001b[38;5;124m'\u001b[39m\u001b[38;5;124m2m_dewpoint_temperature\u001b[39m\u001b[38;5;124m'\u001b[39m,\n\u001b[0;32m     36\u001b[0m          \u001b[38;5;124m'\u001b[39m\u001b[38;5;124mtotal_precipitation\u001b[39m\u001b[38;5;124m'\u001b[39m,\u001b[38;5;124m'\u001b[39m\u001b[38;5;124mwind10\u001b[39m\u001b[38;5;124m'\u001b[39m]]\u001b[38;5;241m.\u001b[39mto_dataframe()\u001b[38;5;241m.\u001b[39mreset_index()\n",
      "File \u001b[1;32mc:\\Users\\USER\\anaconda3\\envs\\ds_env\\Lib\\site-packages\\xarray\\backends\\api.py:668\u001b[0m, in \u001b[0;36mopen_dataset\u001b[1;34m(filename_or_obj, engine, chunks, cache, decode_cf, mask_and_scale, decode_times, decode_timedelta, use_cftime, concat_characters, decode_coords, drop_variables, inline_array, chunked_array_type, from_array_kwargs, backend_kwargs, **kwargs)\u001b[0m\n\u001b[0;32m    665\u001b[0m     kwargs\u001b[38;5;241m.\u001b[39mupdate(backend_kwargs)\n\u001b[0;32m    667\u001b[0m \u001b[38;5;28;01mif\u001b[39;00m engine \u001b[38;5;129;01mis\u001b[39;00m \u001b[38;5;28;01mNone\u001b[39;00m:\n\u001b[1;32m--> 668\u001b[0m     engine \u001b[38;5;241m=\u001b[39m \u001b[43mplugins\u001b[49m\u001b[38;5;241;43m.\u001b[39;49m\u001b[43mguess_engine\u001b[49m\u001b[43m(\u001b[49m\u001b[43mfilename_or_obj\u001b[49m\u001b[43m)\u001b[49m\n\u001b[0;32m    670\u001b[0m \u001b[38;5;28;01mif\u001b[39;00m from_array_kwargs \u001b[38;5;129;01mis\u001b[39;00m \u001b[38;5;28;01mNone\u001b[39;00m:\n\u001b[0;32m    671\u001b[0m     from_array_kwargs \u001b[38;5;241m=\u001b[39m {}\n",
      "File \u001b[1;32mc:\\Users\\USER\\anaconda3\\envs\\ds_env\\Lib\\site-packages\\xarray\\backends\\plugins.py:194\u001b[0m, in \u001b[0;36mguess_engine\u001b[1;34m(store_spec)\u001b[0m\n\u001b[0;32m    186\u001b[0m \u001b[38;5;28;01melse\u001b[39;00m:\n\u001b[0;32m    187\u001b[0m     error_msg \u001b[38;5;241m=\u001b[39m (\n\u001b[0;32m    188\u001b[0m         \u001b[38;5;124m\"\u001b[39m\u001b[38;5;124mfound the following matches with the input file in xarray\u001b[39m\u001b[38;5;124m'\u001b[39m\u001b[38;5;124ms IO \u001b[39m\u001b[38;5;124m\"\u001b[39m\n\u001b[0;32m    189\u001b[0m         \u001b[38;5;124mf\u001b[39m\u001b[38;5;124m\"\u001b[39m\u001b[38;5;124mbackends: \u001b[39m\u001b[38;5;132;01m{\u001b[39;00mcompatible_engines\u001b[38;5;132;01m}\u001b[39;00m\u001b[38;5;124m. But their dependencies may not be installed, see:\u001b[39m\u001b[38;5;130;01m\\n\u001b[39;00m\u001b[38;5;124m\"\u001b[39m\n\u001b[0;32m    190\u001b[0m         \u001b[38;5;124m\"\u001b[39m\u001b[38;5;124mhttps://docs.xarray.dev/en/stable/user-guide/io.html \u001b[39m\u001b[38;5;130;01m\\n\u001b[39;00m\u001b[38;5;124m\"\u001b[39m\n\u001b[0;32m    191\u001b[0m         \u001b[38;5;124m\"\u001b[39m\u001b[38;5;124mhttps://docs.xarray.dev/en/stable/getting-started-guide/installing.html\u001b[39m\u001b[38;5;124m\"\u001b[39m\n\u001b[0;32m    192\u001b[0m     )\n\u001b[1;32m--> 194\u001b[0m \u001b[38;5;28;01mraise\u001b[39;00m \u001b[38;5;167;01mValueError\u001b[39;00m(error_msg)\n",
      "\u001b[1;31mValueError\u001b[0m: did not find a match in any of xarray's currently installed IO backends ['netcdf4', 'h5netcdf', 'scipy', 'zarr']. Consider explicitly selecting one of the installed engines via the ``engine`` parameter, or installing additional IO dependencies, see:\nhttps://docs.xarray.dev/en/stable/getting-started-guide/installing.html\nhttps://docs.xarray.dev/en/stable/user-guide/io.html"
     ]
    }
   ],
   "source": [
    "import cdsapi\n",
    "import calendar\n",
    "import xarray as xr\n",
    "import pandas as pd\n",
    "import glob\n",
    "import os\n",
    "\n",
    "def download_and_convert_month(year: str, month: str, area: list, prefix: str):\n",
    "    days = [f\"{d:02d}\" for d in range(1, calendar.monthrange(int(year), int(month))[1] + 1)]\n",
    "    times = [f\"{h:02d}:00\" for h in range(24)]\n",
    "    c = cdsapi.Client()\n",
    "    nc_file = f\"{prefix}_{year}{month}.nc\"\n",
    "    c.retrieve(\n",
    "        'reanalysis-era5-land',\n",
    "        {\n",
    "            'variable': [\n",
    "                '2m_dewpoint_temperature',\n",
    "                'total_precipitation',\n",
    "                '2m_temperature',\n",
    "                '10m_u_component_of_wind',\n",
    "                '10m_v_component_of_wind',\n",
    "            ],\n",
    "            'year': year,\n",
    "            'month': month,\n",
    "            'day': days,\n",
    "            'time': times,\n",
    "            'area': area,\n",
    "            'format': 'netcdf',\n",
    "        },\n",
    "        nc_file\n",
    "    )\n",
    "    print(f\"Downloaded: {nc_file}\")\n",
    "    ds = xr.open_dataset(nc_file, engine='netcdf4')\n",
    "    ds['wind10'] = (ds['10m_u_component_of_wind']**2 + ds['10m_v_component_of_wind']**2)**0.5\n",
    "    df = ds[['2m_temperature','2m_dewpoint_temperature',\n",
    "             'total_precipitation','wind10']].to_dataframe().reset_index()\n",
    "    csv_file = f\"{prefix}_{year}{month}.csv\"\n",
    "    df.to_csv(csv_file, index=False)\n",
    "    ds.close()\n",
    "    os.remove(nc_file)\n",
    "    print(f\"Saved CSV: {csv_file}\")\n",
    "\n",
    "if __name__ == \"__main__\":\n",
    "    YEAR = \"2024\"\n",
    "    PREFIX = \"era5land_korea\"\n",
    "    AREA = [39.5, 124.0, 33.0, 131.0]\n",
    "\n",
    "    # 월별 다운로드 & 변환\n",
    "    for m in range(1, 13):\n",
    "        download_and_convert_month(YEAR, f\"{m:02d}\", AREA, PREFIX)\n",
    "\n",
    "    # 병합\n",
    "    files = sorted(glob.glob(f\"{PREFIX}_{YEAR}*.csv\"))\n",
    "    df_all = pd.concat((pd.read_csv(f) for f in files), ignore_index=True)\n",
    "    df_all.to_csv(f\"{PREFIX}_{YEAR}_full.csv\", index=False)\n",
    "    print(f\"Merged CSV saved: {PREFIX}_{YEAR}_full.csv\")"
   ]
  },
  {
   "cell_type": "code",
   "execution_count": 2,
   "metadata": {},
   "outputs": [
    {
     "name": "stdout",
     "output_type": "stream",
     "text": [
      "Name: cdsapi\n",
      "Version: 0.7.5\n",
      "Summary: Climate Data Store API\n",
      "Home-page: https://github.com/ecmwf/cdsapi\n",
      "Author: ECMWF\n",
      "Author-email: software.support@ecmwf.int\n",
      "License: Apache 2.0\n",
      "Location: c:\\Users\\USER\\anaconda3\\envs\\ds_env\\Lib\\site-packages\n",
      "Requires: datapi, requests, tqdm\n",
      "Required-by: \n",
      "Note: you may need to restart the kernel to use updated packages.\n"
     ]
    }
   ],
   "source": [
    "%pip show cdsapi"
   ]
  }
 ],
 "metadata": {
  "kernelspec": {
   "display_name": "ds_env",
   "language": "python",
   "name": "python3"
  },
  "language_info": {
   "codemirror_mode": {
    "name": "ipython",
    "version": 3
   },
   "file_extension": ".py",
   "mimetype": "text/x-python",
   "name": "python",
   "nbconvert_exporter": "python",
   "pygments_lexer": "ipython3",
   "version": "3.12.8"
  }
 },
 "nbformat": 4,
 "nbformat_minor": 2
}
