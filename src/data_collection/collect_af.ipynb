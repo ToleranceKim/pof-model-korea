{
 "cells": [
  {
   "cell_type": "markdown",
   "metadata": {},
   "source": [
    "# 타겟(열점) 데이터 수집\n",
    "타겟 데이터 : af_flag\n",
    "1. FIRMS REST API\n",
    "    - NASA 실시간 데이터 (위성 통과 후 10분 내 배포)\n",
    "    - URL 호출 만으로 날짜 및 BBOX 지정하여 내려받을 수 있어 자동화 가능\n",
    "    - 'I/n/h'의 confidence 필드 존재\n",
    "    - API 가이드 : https://firms.modaps.eosdis.nasa.gov/api/\n",
    "\n",
    "2. SFTP Archive\n",
    "    - 매달 한 번 품질 보정(QC) 및 위치 재조정 완료 데이터 - 결측 및 오검출이 적음\n",
    "    - confidence 필드가 0-100점수로 매핑\n",
    "    - 2000-02-24 이후 전 기간이 연.월 폴더 구조로 정리되어 있음\n",
    "    - 다운로드 링크 : https://firms.modaps.eosdis.nasa.gov/download/ \n",
    "    - SFTP User 가이드 참조하여 다운로드 혹은 사이트에서 신청 (1시간 내로 승인 되었음)"
   ]
  }
 ],
 "metadata": {
  "language_info": {
   "name": "python"
  }
 },
 "nbformat": 4,
 "nbformat_minor": 2
}
